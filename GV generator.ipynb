{
 "cells": [
  {
   "cell_type": "code",
   "execution_count": 3,
   "metadata": {},
   "outputs": [],
   "source": [
    "import string\n",
    "from random import *"
   ]
  },
  {
   "cell_type": "code",
   "execution_count": 45,
   "metadata": {},
   "outputs": [
    {
     "data": {
      "text/plain": [
       "'BEFV-78SZ-ZGYX'"
      ]
     },
     "execution_count": 45,
     "metadata": {},
     "output_type": "execute_result"
    }
   ],
   "source": [
    "def create_GV():\n",
    "    alphabets = string.ascii_uppercase\n",
    "    numbers = string.digits\n",
    "    punctuation = string.punctuation\n",
    "    seprator = '-'\n",
    "    characters =alphabets+numbers\n",
    "    \n",
    "    a = \"\".join(choice(characters) for i in range(randint(4,4)))\n",
    "    b = \"\".join(choice(characters[::-1]) for i in range(randint(4,6)))\n",
    "    c = \"\".join(choice(characters) for i in range(randint(4,4)))\n",
    "    pswd = a +'-'+ b +'-'+ c\n",
    "    return pswd\n",
    "\n",
    "create_GV()"
   ]
  },
  {
   "cell_type": "code",
   "execution_count": null,
   "metadata": {},
   "outputs": [],
   "source": []
  }
 ],
 "metadata": {
  "kernelspec": {
   "display_name": "Python 3",
   "language": "python",
   "name": "python3"
  },
  "language_info": {
   "codemirror_mode": {
    "name": "ipython",
    "version": 3
   },
   "file_extension": ".py",
   "mimetype": "text/x-python",
   "name": "python",
   "nbconvert_exporter": "python",
   "pygments_lexer": "ipython3",
   "version": "3.7.6"
  }
 },
 "nbformat": 4,
 "nbformat_minor": 4
}
